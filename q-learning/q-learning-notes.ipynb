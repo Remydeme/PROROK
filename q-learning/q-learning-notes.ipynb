{
 "cells": [
  {
   "cell_type": "code",
   "execution_count": 1,
   "metadata": {},
   "outputs": [],
   "source": [
    "from agent import Agent\n",
    "\n",
    "from grid import Map\n",
    "\n",
    "import numpy as np\n",
    "\n",
    "import time \n",
    "\n",
    "\n"
   ]
  },
  {
   "cell_type": "markdown",
   "metadata": {},
   "source": [
    "Nous allons mettre en évidence l'impacte des différents paramètres gamma, epsilon, la dimension de la map et le learning rate sur : \n",
    "\n",
    "- La précision \n",
    "- La rapidité \n",
    "de notre agent. \n",
    "On construit une map de dimension 3 * 3 et un agent."
   ]
  },
  {
   "cell_type": "code",
   "execution_count": 3,
   "metadata": {},
   "outputs": [],
   "source": [
    "carte = Map(3, 3) \n",
    "carte.initGrid()\n",
    "\n",
    "car = Agent(map=carte)\n",
    "params = {\"epsilon\" : [0.2, 0.3, 0.4, 0.5], \"l\" : [0.1, 0.2, 0.3, 0.4], \"gamma\" : [0.9, 0.7, 0.5, 0.3, 0.1]}\n",
    "\n",
    "def GridSearch(params, agent, epoch):\n",
    "    speed = []\n",
    "    agents = []\n",
    "    for eps in range(0, len(parmas[\"epsilon\"])):\n",
    "        for l in params[\"l\"]:\n",
    "            for ga in params[\"gamma\"]:\n",
    "                agent.l = l\n",
    "                agent.gamma = ga \n",
    "                agent.epsilon = eps\n",
    "                start = time.time()\n",
    "                for i in range(0, epoch):\n",
    "                    agent.play()\n",
    "                end = time.time()\n",
    "                delay = end - start \n",
    "                speed.append(delay)\n",
    "                agents.append(agent)\n",
    "        "
   ]
  }
 ],
 "metadata": {
  "kernelspec": {
   "display_name": "Python 3",
   "language": "python",
   "name": "python3"
  },
  "language_info": {
   "codemirror_mode": {
    "name": "ipython",
    "version": 3
   },
   "file_extension": ".py",
   "mimetype": "text/x-python",
   "name": "python",
   "nbconvert_exporter": "python",
   "pygments_lexer": "ipython3",
   "version": "3.7.0"
  }
 },
 "nbformat": 4,
 "nbformat_minor": 1
}
